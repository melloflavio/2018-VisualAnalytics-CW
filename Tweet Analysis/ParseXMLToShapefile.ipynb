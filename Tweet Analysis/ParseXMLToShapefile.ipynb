{
 "cells": [
  {
   "cell_type": "markdown",
   "metadata": {},
   "source": [
    "This notebook deals with extracting the location polygons and converting them to a shapefile in order to use Tableau for analysing the data"
   ]
  },
  {
   "cell_type": "code",
   "execution_count": 2,
   "metadata": {},
   "outputs": [],
   "source": [
    "# https://github.com/geopandas/geopandas/issues/830\n",
    "import os\n",
    "# os.environ[\"PROJ_LIB\"] = \"C:\\Anaconda\\envs\\env_name\\Library\\share\" #windows\n",
    "os.environ[\"PROJ_LIB\"] = \"C:\\\\Users\\\\flavi\\\\Anaconda3\\\\Library\\\\share\" #windows\n",
    "\n",
    "# Imports\n",
    "from area import area\n",
    "import pandas as pd\n",
    "import geopandas as gpd\n",
    "from shapely.geometry import Polygon\n",
    "from lxml import objectify"
   ]
  },
  {
   "cell_type": "code",
   "execution_count": 3,
   "metadata": {},
   "outputs": [
    {
     "data": {
      "text/html": [
       "<div>\n",
       "<style scoped>\n",
       "    .dataframe tbody tr th:only-of-type {\n",
       "        vertical-align: middle;\n",
       "    }\n",
       "\n",
       "    .dataframe tbody tr th {\n",
       "        vertical-align: top;\n",
       "    }\n",
       "\n",
       "    .dataframe thead th {\n",
       "        text-align: right;\n",
       "    }\n",
       "</style>\n",
       "<table border=\"1\" class=\"dataframe\">\n",
       "  <thead>\n",
       "    <tr style=\"text-align: right;\">\n",
       "      <th></th>\n",
       "      <th>id</th>\n",
       "      <th>name</th>\n",
       "      <th>polygon</th>\n",
       "    </tr>\n",
       "  </thead>\n",
       "  <tbody>\n",
       "    <tr>\n",
       "      <th>0</th>\n",
       "      <td>1</td>\n",
       "      <td>Trafalgar Square</td>\n",
       "      <td>POLYGON ((-0.1304619 51.50952, -0.13048266 51....</td>\n",
       "    </tr>\n",
       "    <tr>\n",
       "      <th>1</th>\n",
       "      <td>2</td>\n",
       "      <td>Big Ben</td>\n",
       "      <td>POLYGON ((-0.12498988 51.503284, -0.12284501 5...</td>\n",
       "    </tr>\n",
       "    <tr>\n",
       "      <th>2</th>\n",
       "      <td>3</td>\n",
       "      <td>Parliament Square</td>\n",
       "      <td>POLYGON ((-0.12562872 51.502274, -0.12844071 5...</td>\n",
       "    </tr>\n",
       "    <tr>\n",
       "      <th>3</th>\n",
       "      <td>4</td>\n",
       "      <td>London Eye</td>\n",
       "      <td>POLYGON ((-0.12235283 51.503895, -0.12092333 5...</td>\n",
       "    </tr>\n",
       "    <tr>\n",
       "      <th>4</th>\n",
       "      <td>5</td>\n",
       "      <td>Tate Modern</td>\n",
       "      <td>POLYGON ((-0.0996684 51.51117, -0.101172544 51...</td>\n",
       "    </tr>\n",
       "  </tbody>\n",
       "</table>\n",
       "</div>"
      ],
      "text/plain": [
       "   id               name                                            polygon\n",
       "0   1   Trafalgar Square  POLYGON ((-0.1304619 51.50952, -0.13048266 51....\n",
       "1   2            Big Ben  POLYGON ((-0.12498988 51.503284, -0.12284501 5...\n",
       "2   3  Parliament Square  POLYGON ((-0.12562872 51.502274, -0.12844071 5...\n",
       "3   4         London Eye  POLYGON ((-0.12235283 51.503895, -0.12092333 5...\n",
       "4   5        Tate Modern  POLYGON ((-0.0996684 51.51117, -0.101172544 51..."
      ]
     },
     "execution_count": 3,
     "metadata": {},
     "output_type": "execute_result"
    }
   ],
   "source": [
    "mainXml = objectify.parse('Dataset/Original/London_division_2500-150.xml')\n",
    "lxmlRoot = mainXml.getroot()\n",
    "allPlaces = []\n",
    "POLYGON = None\n",
    "for location in lxmlRoot.iterchildren():\n",
    "    place = {}\n",
    "    place['id'] = int(location.id)\n",
    "    place['name'] = str(location.name)\n",
    "    \n",
    "    shape_points = []\n",
    "    for point in location.shape.iterchildren():\n",
    "        shape_points.append((point.xCoord, point.yCoord))\n",
    "    polygon_geom = Polygon(shape_points)\n",
    "    place['polygon'] = polygon_geom\n",
    "    POLYGON=polygon_geom\n",
    "#     print('area: {}'.format(area(polygon_geom)))\n",
    "    \n",
    "    allPlaces.append(place)\n",
    "\n",
    "myDf = pd.DataFrame.from_records(allPlaces)\n",
    "myDf.head()"
   ]
  },
  {
   "cell_type": "code",
   "execution_count": 4,
   "metadata": {},
   "outputs": [
    {
     "ename": "NameError",
     "evalue": "name 'geom' is not defined",
     "output_type": "error",
     "traceback": [
      "\u001b[1;31m---------------------------------------------------------------------------\u001b[0m",
      "\u001b[1;31mNameError\u001b[0m                                 Traceback (most recent call last)",
      "\u001b[1;32m<ipython-input-4-695d099a6bc3>\u001b[0m in \u001b[0;36m<module>\u001b[1;34m()\u001b[0m\n\u001b[0;32m     15\u001b[0m             \u001b[0mlat1\u001b[0m\u001b[1;33m=\u001b[0m\u001b[0mPOLYGON\u001b[0m\u001b[1;33m.\u001b[0m\u001b[0mbounds\u001b[0m\u001b[1;33m[\u001b[0m\u001b[1;36m1\u001b[0m\u001b[1;33m]\u001b[0m\u001b[1;33m,\u001b[0m\u001b[1;33m\u001b[0m\u001b[0m\n\u001b[0;32m     16\u001b[0m             lat2=POLYGON.bounds[3])),\n\u001b[1;32m---> 17\u001b[1;33m     geom)\n\u001b[0m\u001b[0;32m     18\u001b[0m \u001b[1;33m\u001b[0m\u001b[0m\n\u001b[0;32m     19\u001b[0m \u001b[1;31m# Print the area in m^2\u001b[0m\u001b[1;33m\u001b[0m\u001b[1;33m\u001b[0m\u001b[0m\n",
      "\u001b[1;31mNameError\u001b[0m: name 'geom' is not defined"
     ]
    }
   ],
   "source": [
    "# import pyproj    \n",
    "# import shapely\n",
    "# import shapely.ops as ops\n",
    "# from shapely.geometry.polygon import Polygon\n",
    "# from functools import partial\n",
    "\n",
    "\n",
    "# # geom = Polygon([(0, 0), (0, 10), (10, 10), (10, 0), (0, 0)])\n",
    "# geom_area = ops.transform(\n",
    "#     partial(\n",
    "#         pyproj.transform,\n",
    "#         pyproj.Proj(init='EPSG:4326'),\n",
    "#         pyproj.Proj(\n",
    "#             proj='aea',\n",
    "#             lat1=POLYGON.bounds[1],\n",
    "#             lat2=POLYGON.bounds[3])),\n",
    "#     geom)\n",
    "\n",
    "# # Print the area in m^2\n",
    "# print(geom_area.area)"
   ]
  },
  {
   "cell_type": "markdown",
   "metadata": {},
   "source": [
    "Convert data frame to a Geo Data Frame, in order to export to a shapefile"
   ]
  },
  {
   "cell_type": "code",
   "execution_count": 7,
   "metadata": {},
   "outputs": [
    {
     "data": {
      "text/html": [
       "<div>\n",
       "<style scoped>\n",
       "    .dataframe tbody tr th:only-of-type {\n",
       "        vertical-align: middle;\n",
       "    }\n",
       "\n",
       "    .dataframe tbody tr th {\n",
       "        vertical-align: top;\n",
       "    }\n",
       "\n",
       "    .dataframe thead th {\n",
       "        text-align: right;\n",
       "    }\n",
       "</style>\n",
       "<table border=\"1\" class=\"dataframe\">\n",
       "  <thead>\n",
       "    <tr style=\"text-align: right;\">\n",
       "      <th></th>\n",
       "      <th>id</th>\n",
       "      <th>name</th>\n",
       "      <th>polygon</th>\n",
       "      <th>area</th>\n",
       "    </tr>\n",
       "  </thead>\n",
       "  <tbody>\n",
       "    <tr>\n",
       "      <th>0</th>\n",
       "      <td>1</td>\n",
       "      <td>Trafalgar Square</td>\n",
       "      <td>POLYGON ((-0.1304619 51.50952, -0.13048266 51....</td>\n",
       "      <td>0.277425</td>\n",
       "    </tr>\n",
       "    <tr>\n",
       "      <th>1</th>\n",
       "      <td>2</td>\n",
       "      <td>Big Ben</td>\n",
       "      <td>POLYGON ((-0.12498988 51.503284, -0.12284501 5...</td>\n",
       "      <td>0.399994</td>\n",
       "    </tr>\n",
       "    <tr>\n",
       "      <th>2</th>\n",
       "      <td>3</td>\n",
       "      <td>Parliament Square</td>\n",
       "      <td>POLYGON ((-0.12562872 51.502274, -0.12844071 5...</td>\n",
       "      <td>0.236767</td>\n",
       "    </tr>\n",
       "    <tr>\n",
       "      <th>3</th>\n",
       "      <td>4</td>\n",
       "      <td>London Eye</td>\n",
       "      <td>POLYGON ((-0.12235283 51.503895, -0.12092333 5...</td>\n",
       "      <td>0.425408</td>\n",
       "    </tr>\n",
       "    <tr>\n",
       "      <th>4</th>\n",
       "      <td>5</td>\n",
       "      <td>Tate Modern</td>\n",
       "      <td>POLYGON ((-0.0996684 51.51117, -0.101172544 51...</td>\n",
       "      <td>0.686323</td>\n",
       "    </tr>\n",
       "  </tbody>\n",
       "</table>\n",
       "</div>"
      ],
      "text/plain": [
       "   id               name                                            polygon  \\\n",
       "0   1   Trafalgar Square  POLYGON ((-0.1304619 51.50952, -0.13048266 51....   \n",
       "1   2            Big Ben  POLYGON ((-0.12498988 51.503284, -0.12284501 5...   \n",
       "2   3  Parliament Square  POLYGON ((-0.12562872 51.502274, -0.12844071 5...   \n",
       "3   4         London Eye  POLYGON ((-0.12235283 51.503895, -0.12092333 5...   \n",
       "4   5        Tate Modern  POLYGON ((-0.0996684 51.51117, -0.101172544 51...   \n",
       "\n",
       "       area  \n",
       "0  0.277425  \n",
       "1  0.399994  \n",
       "2  0.236767  \n",
       "3  0.425408  \n",
       "4  0.686323  "
      ]
     },
     "execution_count": 7,
     "metadata": {},
     "output_type": "execute_result"
    }
   ],
   "source": [
    "# import os\n",
    "# os.environ[\"PROJ_LIB\"] = \"C:\\Anaconda\\envs\\env_name\\Library\\share\" #windows\n",
    "\n",
    "gdf = gpd.GeoDataFrame(myDf, geometry='polygon')\n",
    "gdf.crs = {'init' :'epsg:4326'} # lat long projection\n",
    "gdf['area'] = gdf['polygon'].to_crs({'init': 'epsg:3395'}).map(lambda p: p.area / 10**6)\n",
    "# gdf['geometry'].to_crs({'init': 'epsg:3395'})\\\n",
    "#                .map(lambda p: p.area / 10**6)\n",
    "# gdf.to_crs({'init': 'epsg:3395'})\n",
    "gdf.head()"
   ]
  },
  {
   "cell_type": "code",
   "execution_count": 8,
   "metadata": {},
   "outputs": [
    {
     "ename": "AssertionError",
     "evalue": "",
     "output_type": "error",
     "traceback": [
      "\u001b[1;31m---------------------------------------------------------------------------\u001b[0m",
      "\u001b[1;31mAssertionError\u001b[0m                            Traceback (most recent call last)",
      "\u001b[1;32m<ipython-input-8-81b94cf6c4a5>\u001b[0m in \u001b[0;36m<module>\u001b[1;34m()\u001b[0m\n\u001b[1;32m----> 1\u001b[1;33m \u001b[0mgdf\u001b[0m\u001b[1;33m[\u001b[0m\u001b[1;34m'area'\u001b[0m\u001b[1;33m]\u001b[0m \u001b[1;33m=\u001b[0m \u001b[0mgdf\u001b[0m\u001b[1;33m[\u001b[0m\u001b[1;34m'polygon'\u001b[0m\u001b[1;33m]\u001b[0m\u001b[1;33m.\u001b[0m\u001b[0mmap\u001b[0m\u001b[1;33m(\u001b[0m\u001b[1;32mlambda\u001b[0m \u001b[0mp\u001b[0m\u001b[1;33m:\u001b[0m \u001b[0marea\u001b[0m\u001b[1;33m(\u001b[0m\u001b[0mp\u001b[0m\u001b[1;33m)\u001b[0m\u001b[1;33m)\u001b[0m\u001b[1;33m\u001b[0m\u001b[0m\n\u001b[0m",
      "\u001b[1;32m~\\Anaconda3\\lib\\site-packages\\pandas\\core\\series.py\u001b[0m in \u001b[0;36mmap\u001b[1;34m(self, arg, na_action)\u001b[0m\n\u001b[0;32m   2994\u001b[0m         \"\"\"\n\u001b[0;32m   2995\u001b[0m         new_values = super(Series, self)._map_values(\n\u001b[1;32m-> 2996\u001b[1;33m             arg, na_action=na_action)\n\u001b[0m\u001b[0;32m   2997\u001b[0m         return self._constructor(new_values,\n\u001b[0;32m   2998\u001b[0m                                  index=self.index).__finalize__(self)\n",
      "\u001b[1;32m~\\Anaconda3\\lib\\site-packages\\pandas\\core\\base.py\u001b[0m in \u001b[0;36m_map_values\u001b[1;34m(self, mapper, na_action)\u001b[0m\n\u001b[0;32m   1002\u001b[0m \u001b[1;33m\u001b[0m\u001b[0m\n\u001b[0;32m   1003\u001b[0m         \u001b[1;31m# mapper is a function\u001b[0m\u001b[1;33m\u001b[0m\u001b[1;33m\u001b[0m\u001b[0m\n\u001b[1;32m-> 1004\u001b[1;33m         \u001b[0mnew_values\u001b[0m \u001b[1;33m=\u001b[0m \u001b[0mmap_f\u001b[0m\u001b[1;33m(\u001b[0m\u001b[0mvalues\u001b[0m\u001b[1;33m,\u001b[0m \u001b[0mmapper\u001b[0m\u001b[1;33m)\u001b[0m\u001b[1;33m\u001b[0m\u001b[0m\n\u001b[0m\u001b[0;32m   1005\u001b[0m \u001b[1;33m\u001b[0m\u001b[0m\n\u001b[0;32m   1006\u001b[0m         \u001b[1;32mreturn\u001b[0m \u001b[0mnew_values\u001b[0m\u001b[1;33m\u001b[0m\u001b[0m\n",
      "\u001b[1;32mpandas/_libs/src\\inference.pyx\u001b[0m in \u001b[0;36mpandas._libs.lib.map_infer\u001b[1;34m()\u001b[0m\n",
      "\u001b[1;32m<ipython-input-8-81b94cf6c4a5>\u001b[0m in \u001b[0;36m<lambda>\u001b[1;34m(p)\u001b[0m\n\u001b[1;32m----> 1\u001b[1;33m \u001b[0mgdf\u001b[0m\u001b[1;33m[\u001b[0m\u001b[1;34m'area'\u001b[0m\u001b[1;33m]\u001b[0m \u001b[1;33m=\u001b[0m \u001b[0mgdf\u001b[0m\u001b[1;33m[\u001b[0m\u001b[1;34m'polygon'\u001b[0m\u001b[1;33m]\u001b[0m\u001b[1;33m.\u001b[0m\u001b[0mmap\u001b[0m\u001b[1;33m(\u001b[0m\u001b[1;32mlambda\u001b[0m \u001b[0mp\u001b[0m\u001b[1;33m:\u001b[0m \u001b[0marea\u001b[0m\u001b[1;33m(\u001b[0m\u001b[0mp\u001b[0m\u001b[1;33m)\u001b[0m\u001b[1;33m)\u001b[0m\u001b[1;33m\u001b[0m\u001b[0m\n\u001b[0m",
      "\u001b[1;32m~\\Anaconda3\\lib\\site-packages\\area\\__init__.py\u001b[0m in \u001b[0;36marea\u001b[1;34m(geometry)\u001b[0m\n\u001b[0;32m     78\u001b[0m         \u001b[0mgeometry\u001b[0m \u001b[1;33m=\u001b[0m \u001b[0mjson\u001b[0m\u001b[1;33m.\u001b[0m\u001b[0mloads\u001b[0m\u001b[1;33m(\u001b[0m\u001b[0mgeometry\u001b[0m\u001b[1;33m)\u001b[0m\u001b[1;33m\u001b[0m\u001b[0m\n\u001b[0;32m     79\u001b[0m \u001b[1;33m\u001b[0m\u001b[0m\n\u001b[1;32m---> 80\u001b[1;33m     \u001b[1;32massert\u001b[0m \u001b[0misinstance\u001b[0m\u001b[1;33m(\u001b[0m\u001b[0mgeometry\u001b[0m\u001b[1;33m,\u001b[0m \u001b[0mdict\u001b[0m\u001b[1;33m)\u001b[0m\u001b[1;33m\u001b[0m\u001b[0m\n\u001b[0m\u001b[0;32m     81\u001b[0m \u001b[1;33m\u001b[0m\u001b[0m\n\u001b[0;32m     82\u001b[0m     \u001b[0m_area\u001b[0m \u001b[1;33m=\u001b[0m \u001b[1;36m0\u001b[0m\u001b[1;33m\u001b[0m\u001b[0m\n",
      "\u001b[1;31mAssertionError\u001b[0m: "
     ]
    }
   ],
   "source": []
  },
  {
   "cell_type": "markdown",
   "metadata": {},
   "source": [
    "Export GeoDataFrame to a shapefile, which is now able to be used in Tableau"
   ]
  },
  {
   "cell_type": "code",
   "execution_count": null,
   "metadata": {},
   "outputs": [],
   "source": [
    "gdf.to_file('Dataset/Processed/London_division.shp', driver=\"ESRI Shapefile\")"
   ]
  }
 ],
 "metadata": {
  "kernelspec": {
   "display_name": "Python 3",
   "language": "python",
   "name": "python3"
  },
  "language_info": {
   "codemirror_mode": {
    "name": "ipython",
    "version": 3
   },
   "file_extension": ".py",
   "mimetype": "text/x-python",
   "name": "python",
   "nbconvert_exporter": "python",
   "pygments_lexer": "ipython3",
   "version": "3.6.5"
  }
 },
 "nbformat": 4,
 "nbformat_minor": 2
}
