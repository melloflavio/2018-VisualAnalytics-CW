{
 "cells": [
  {
   "cell_type": "markdown",
   "metadata": {},
   "source": [
    "This notebook deals with extracting the location polygons and converting them to a shapefile in order to use Tableau for analysing the data"
   ]
  },
  {
   "cell_type": "code",
   "execution_count": 32,
   "metadata": {},
   "outputs": [],
   "source": [
    "# Imports\n",
    "import pandas as pd\n",
    "import geopandas as gpd\n",
    "from shapely.geometry import Point\n",
    "from lxml import objectify"
   ]
  },
  {
   "cell_type": "code",
   "execution_count": 41,
   "metadata": {},
   "outputs": [
    {
     "name": "stderr",
     "output_type": "stream",
     "text": [
      "C:\\Users\\flavi\\Anaconda3\\lib\\site-packages\\ipykernel_launcher.py:1: FutureWarning: from_csv is deprecated. Please use read_csv(...) instead. Note that some of the default arguments are different, so please refer to the documentation for from_csv when changing your function calls\n",
      "  \"\"\"Entry point for launching an IPython kernel.\n"
     ]
    },
    {
     "data": {
      "text/html": [
       "<div>\n",
       "<style scoped>\n",
       "    .dataframe tbody tr th:only-of-type {\n",
       "        vertical-align: middle;\n",
       "    }\n",
       "\n",
       "    .dataframe tbody tr th {\n",
       "        vertical-align: top;\n",
       "    }\n",
       "\n",
       "    .dataframe thead th {\n",
       "        text-align: right;\n",
       "    }\n",
       "</style>\n",
       "<table border=\"1\" class=\"dataframe\">\n",
       "  <thead>\n",
       "    <tr style=\"text-align: right;\">\n",
       "      <th></th>\n",
       "      <th>LocationName</th>\n",
       "      <th>Type</th>\n",
       "      <th>Latitude</th>\n",
       "      <th>Longitude</th>\n",
       "      <th>String Coordinates</th>\n",
       "      <th>Coordinates</th>\n",
       "    </tr>\n",
       "    <tr>\n",
       "      <th>Id</th>\n",
       "      <th></th>\n",
       "      <th></th>\n",
       "      <th></th>\n",
       "      <th></th>\n",
       "      <th></th>\n",
       "      <th></th>\n",
       "    </tr>\n",
       "  </thead>\n",
       "  <tbody>\n",
       "    <tr>\n",
       "      <th>1</th>\n",
       "      <td>Heathrow Airport</td>\n",
       "      <td>Airport</td>\n",
       "      <td>51.4700</td>\n",
       "      <td>-0.4543</td>\n",
       "      <td>51.4700° N, 0.4543° W</td>\n",
       "      <td>POINT (-0.4543 51.47)</td>\n",
       "    </tr>\n",
       "    <tr>\n",
       "      <th>2</th>\n",
       "      <td>Gatwick Airport</td>\n",
       "      <td>Airport</td>\n",
       "      <td>51.1537</td>\n",
       "      <td>-0.1821</td>\n",
       "      <td>51.1537° N, 0.1821° W</td>\n",
       "      <td>POINT (-0.1821 51.1537)</td>\n",
       "    </tr>\n",
       "    <tr>\n",
       "      <th>3</th>\n",
       "      <td>Stansted Airport</td>\n",
       "      <td>Airport</td>\n",
       "      <td>51.8860</td>\n",
       "      <td>0.2389</td>\n",
       "      <td>51.8860° N, 0.2389° E</td>\n",
       "      <td>POINT (0.2389 51.886)</td>\n",
       "    </tr>\n",
       "    <tr>\n",
       "      <th>4</th>\n",
       "      <td>Luton Airport</td>\n",
       "      <td>Airport</td>\n",
       "      <td>51.8763</td>\n",
       "      <td>-0.3717</td>\n",
       "      <td>51.8763° N, 0.3717° W</td>\n",
       "      <td>POINT (-0.3717 51.8763)</td>\n",
       "    </tr>\n",
       "    <tr>\n",
       "      <th>5</th>\n",
       "      <td>London City Airport</td>\n",
       "      <td>Airport</td>\n",
       "      <td>51.5048</td>\n",
       "      <td>0.0495</td>\n",
       "      <td>51.5048° N, 0.0495° E</td>\n",
       "      <td>POINT (0.0495 51.5048)</td>\n",
       "    </tr>\n",
       "  </tbody>\n",
       "</table>\n",
       "</div>"
      ],
      "text/plain": [
       "           LocationName     Type  Latitude  Longitude     String Coordinates  \\\n",
       "Id                                                                             \n",
       "1      Heathrow Airport  Airport   51.4700    -0.4543  51.4700° N, 0.4543° W   \n",
       "2       Gatwick Airport  Airport   51.1537    -0.1821  51.1537° N, 0.1821° W   \n",
       "3      Stansted Airport  Airport   51.8860     0.2389  51.8860° N, 0.2389° E   \n",
       "4         Luton Airport  Airport   51.8763    -0.3717  51.8763° N, 0.3717° W   \n",
       "5   London City Airport  Airport   51.5048     0.0495  51.5048° N, 0.0495° E   \n",
       "\n",
       "                Coordinates  \n",
       "Id                           \n",
       "1     POINT (-0.4543 51.47)  \n",
       "2   POINT (-0.1821 51.1537)  \n",
       "3     POINT (0.2389 51.886)  \n",
       "4   POINT (-0.3717 51.8763)  \n",
       "5    POINT (0.0495 51.5048)  "
      ]
     },
     "execution_count": 41,
     "metadata": {},
     "output_type": "execute_result"
    }
   ],
   "source": [
    "myDf = pd.DataFrame.from_csv('Dataset/Original/MainTransportHubs.csv')\n",
    "myDf['Coordinates'] = [Point(coords) for coords in myDf[['Longitude', 'Latitude']].itertuples(index=False, name=None)]\n",
    "myDf.head()"
   ]
  },
  {
   "cell_type": "markdown",
   "metadata": {},
   "source": [
    "Convert data frame to a Geo Data Frame, in order to export to a shapefile"
   ]
  },
  {
   "cell_type": "code",
   "execution_count": 42,
   "metadata": {},
   "outputs": [
    {
     "data": {
      "text/html": [
       "<div>\n",
       "<style scoped>\n",
       "    .dataframe tbody tr th:only-of-type {\n",
       "        vertical-align: middle;\n",
       "    }\n",
       "\n",
       "    .dataframe tbody tr th {\n",
       "        vertical-align: top;\n",
       "    }\n",
       "\n",
       "    .dataframe thead th {\n",
       "        text-align: right;\n",
       "    }\n",
       "</style>\n",
       "<table border=\"1\" class=\"dataframe\">\n",
       "  <thead>\n",
       "    <tr style=\"text-align: right;\">\n",
       "      <th></th>\n",
       "      <th>LocationName</th>\n",
       "      <th>Type</th>\n",
       "      <th>Coordinates</th>\n",
       "    </tr>\n",
       "    <tr>\n",
       "      <th>Id</th>\n",
       "      <th></th>\n",
       "      <th></th>\n",
       "      <th></th>\n",
       "    </tr>\n",
       "  </thead>\n",
       "  <tbody>\n",
       "    <tr>\n",
       "      <th>1</th>\n",
       "      <td>Heathrow Airport</td>\n",
       "      <td>Airport</td>\n",
       "      <td>POINT (-0.4543 51.47)</td>\n",
       "    </tr>\n",
       "    <tr>\n",
       "      <th>2</th>\n",
       "      <td>Gatwick Airport</td>\n",
       "      <td>Airport</td>\n",
       "      <td>POINT (-0.1821 51.1537)</td>\n",
       "    </tr>\n",
       "    <tr>\n",
       "      <th>3</th>\n",
       "      <td>Stansted Airport</td>\n",
       "      <td>Airport</td>\n",
       "      <td>POINT (0.2389 51.886)</td>\n",
       "    </tr>\n",
       "    <tr>\n",
       "      <th>4</th>\n",
       "      <td>Luton Airport</td>\n",
       "      <td>Airport</td>\n",
       "      <td>POINT (-0.3717 51.8763)</td>\n",
       "    </tr>\n",
       "    <tr>\n",
       "      <th>5</th>\n",
       "      <td>London City Airport</td>\n",
       "      <td>Airport</td>\n",
       "      <td>POINT (0.0495 51.5048)</td>\n",
       "    </tr>\n",
       "  </tbody>\n",
       "</table>\n",
       "</div>"
      ],
      "text/plain": [
       "           LocationName     Type              Coordinates\n",
       "Id                                                       \n",
       "1      Heathrow Airport  Airport    POINT (-0.4543 51.47)\n",
       "2       Gatwick Airport  Airport  POINT (-0.1821 51.1537)\n",
       "3      Stansted Airport  Airport    POINT (0.2389 51.886)\n",
       "4         Luton Airport  Airport  POINT (-0.3717 51.8763)\n",
       "5   London City Airport  Airport   POINT (0.0495 51.5048)"
      ]
     },
     "execution_count": 42,
     "metadata": {},
     "output_type": "execute_result"
    }
   ],
   "source": [
    "df_to_export = myDf[['LocationName','Type', 'Coordinates']]\n",
    "# df_to_export.head()\n",
    "gdf = gpd.GeoDataFrame(df_to_export, geometry='Coordinates')\n",
    "gdf.head()\n"
   ]
  },
  {
   "cell_type": "markdown",
   "metadata": {},
   "source": [
    "Export GeoDataFrame to a shapefile, which is now able to be used in Tableau"
   ]
  },
  {
   "cell_type": "code",
   "execution_count": 43,
   "metadata": {},
   "outputs": [
    {
     "name": "stderr",
     "output_type": "stream",
     "text": [
      "C:\\Users\\flavi\\Anaconda3\\lib\\site-packages\\geopandas\\io\\file.py:108: FionaDeprecationWarning: Use fiona.Env() instead.\n",
      "  with fiona.drivers():\n",
      "CPLE_NotSupported in Normalized/laundered field name: 'LocationName' to 'LocationNa'\n"
     ]
    }
   ],
   "source": [
    "gdf.to_file('Dataset/Processed/MainTransportHubs.shp', driver=\"ESRI Shapefile\")"
   ]
  },
  {
   "cell_type": "code",
   "execution_count": 51,
   "metadata": {},
   "outputs": [
    {
     "name": "stderr",
     "output_type": "stream",
     "text": [
      "C:\\Users\\flavi\\Anaconda3\\lib\\site-packages\\ipykernel_launcher.py:1: FutureWarning: from_csv is deprecated. Please use read_csv(...) instead. Note that some of the default arguments are different, so please refer to the documentation for from_csv when changing your function calls\n",
      "  \"\"\"Entry point for launching an IPython kernel.\n"
     ]
    },
    {
     "data": {
      "text/html": [
       "<div>\n",
       "<style scoped>\n",
       "    .dataframe tbody tr th:only-of-type {\n",
       "        vertical-align: middle;\n",
       "    }\n",
       "\n",
       "    .dataframe tbody tr th {\n",
       "        vertical-align: top;\n",
       "    }\n",
       "\n",
       "    .dataframe thead th {\n",
       "        text-align: right;\n",
       "    }\n",
       "</style>\n",
       "<table border=\"1\" class=\"dataframe\">\n",
       "  <thead>\n",
       "    <tr style=\"text-align: right;\">\n",
       "      <th></th>\n",
       "      <th>LocationName</th>\n",
       "      <th>Ranking</th>\n",
       "      <th>Latitude</th>\n",
       "      <th>Longitude</th>\n",
       "      <th>String Coords</th>\n",
       "      <th>Coordinates</th>\n",
       "    </tr>\n",
       "    <tr>\n",
       "      <th>Id</th>\n",
       "      <th></th>\n",
       "      <th></th>\n",
       "      <th></th>\n",
       "      <th></th>\n",
       "      <th></th>\n",
       "      <th></th>\n",
       "    </tr>\n",
       "  </thead>\n",
       "  <tbody>\n",
       "    <tr>\n",
       "      <th>1</th>\n",
       "      <td>National Gallery</td>\n",
       "      <td>1</td>\n",
       "      <td>51.5089</td>\n",
       "      <td>-0.1283</td>\n",
       "      <td>51.5089° N, 0.1283° W</td>\n",
       "      <td>POINT (-0.1283 51.5089)</td>\n",
       "    </tr>\n",
       "    <tr>\n",
       "      <th>2</th>\n",
       "      <td>Churchill War Rooms</td>\n",
       "      <td>2</td>\n",
       "      <td>51.5022</td>\n",
       "      <td>-0.1294</td>\n",
       "      <td>51.5022° N, 0.1294° W</td>\n",
       "      <td>POINT (-0.1294 51.5022)</td>\n",
       "    </tr>\n",
       "    <tr>\n",
       "      <th>3</th>\n",
       "      <td>British Museum</td>\n",
       "      <td>3</td>\n",
       "      <td>51.5194</td>\n",
       "      <td>-0.1270</td>\n",
       "      <td>51.5194° N, 0.1270° W</td>\n",
       "      <td>POINT (-0.127 51.5194)</td>\n",
       "    </tr>\n",
       "    <tr>\n",
       "      <th>4</th>\n",
       "      <td>St James Park</td>\n",
       "      <td>4</td>\n",
       "      <td>51.5025</td>\n",
       "      <td>-0.1348</td>\n",
       "      <td>51.5025° N, 0.1348° W</td>\n",
       "      <td>POINT (-0.1348 51.5025)</td>\n",
       "    </tr>\n",
       "    <tr>\n",
       "      <th>5</th>\n",
       "      <td>V&amp;A - Victoria and Albert Museum</td>\n",
       "      <td>5</td>\n",
       "      <td>51.4966</td>\n",
       "      <td>-0.1722</td>\n",
       "      <td>51.4966° N, 0.1722° W</td>\n",
       "      <td>POINT (-0.1722 51.4966)</td>\n",
       "    </tr>\n",
       "  </tbody>\n",
       "</table>\n",
       "</div>"
      ],
      "text/plain": [
       "                        LocationName  Ranking  Latitude  Longitude  \\\n",
       "Id                                                                   \n",
       "1                   National Gallery        1   51.5089    -0.1283   \n",
       "2                Churchill War Rooms        2   51.5022    -0.1294   \n",
       "3                     British Museum        3   51.5194    -0.1270   \n",
       "4                      St James Park        4   51.5025    -0.1348   \n",
       "5   V&A - Victoria and Albert Museum        5   51.4966    -0.1722   \n",
       "\n",
       "            String Coords              Coordinates  \n",
       "Id                                                  \n",
       "1   51.5089° N, 0.1283° W  POINT (-0.1283 51.5089)  \n",
       "2   51.5022° N, 0.1294° W  POINT (-0.1294 51.5022)  \n",
       "3   51.5194° N, 0.1270° W   POINT (-0.127 51.5194)  \n",
       "4   51.5025° N, 0.1348° W  POINT (-0.1348 51.5025)  \n",
       "5   51.4966° N, 0.1722° W  POINT (-0.1722 51.4966)  "
      ]
     },
     "execution_count": 51,
     "metadata": {},
     "output_type": "execute_result"
    }
   ],
   "source": [
    "myDf = pd.DataFrame.from_csv('Dataset/Original/TouristSpots.csv')\n",
    "myDf['Coordinates'] = [Point(coords) for coords in myDf[['Longitude', 'Latitude']].itertuples(index=False, name=None)]\n",
    "myDf.head()"
   ]
  },
  {
   "cell_type": "code",
   "execution_count": 52,
   "metadata": {},
   "outputs": [
    {
     "data": {
      "text/html": [
       "<div>\n",
       "<style scoped>\n",
       "    .dataframe tbody tr th:only-of-type {\n",
       "        vertical-align: middle;\n",
       "    }\n",
       "\n",
       "    .dataframe tbody tr th {\n",
       "        vertical-align: top;\n",
       "    }\n",
       "\n",
       "    .dataframe thead th {\n",
       "        text-align: right;\n",
       "    }\n",
       "</style>\n",
       "<table border=\"1\" class=\"dataframe\">\n",
       "  <thead>\n",
       "    <tr style=\"text-align: right;\">\n",
       "      <th></th>\n",
       "      <th>LocationName</th>\n",
       "      <th>Ranking</th>\n",
       "      <th>Coordinates</th>\n",
       "    </tr>\n",
       "    <tr>\n",
       "      <th>Id</th>\n",
       "      <th></th>\n",
       "      <th></th>\n",
       "      <th></th>\n",
       "    </tr>\n",
       "  </thead>\n",
       "  <tbody>\n",
       "    <tr>\n",
       "      <th>1</th>\n",
       "      <td>National Gallery</td>\n",
       "      <td>1</td>\n",
       "      <td>POINT (-0.1283 51.5089)</td>\n",
       "    </tr>\n",
       "    <tr>\n",
       "      <th>2</th>\n",
       "      <td>Churchill War Rooms</td>\n",
       "      <td>2</td>\n",
       "      <td>POINT (-0.1294 51.5022)</td>\n",
       "    </tr>\n",
       "    <tr>\n",
       "      <th>3</th>\n",
       "      <td>British Museum</td>\n",
       "      <td>3</td>\n",
       "      <td>POINT (-0.127 51.5194)</td>\n",
       "    </tr>\n",
       "    <tr>\n",
       "      <th>4</th>\n",
       "      <td>St James Park</td>\n",
       "      <td>4</td>\n",
       "      <td>POINT (-0.1348 51.5025)</td>\n",
       "    </tr>\n",
       "    <tr>\n",
       "      <th>5</th>\n",
       "      <td>V&amp;A - Victoria and Albert Museum</td>\n",
       "      <td>5</td>\n",
       "      <td>POINT (-0.1722 51.4966)</td>\n",
       "    </tr>\n",
       "  </tbody>\n",
       "</table>\n",
       "</div>"
      ],
      "text/plain": [
       "                        LocationName  Ranking              Coordinates\n",
       "Id                                                                    \n",
       "1                   National Gallery        1  POINT (-0.1283 51.5089)\n",
       "2                Churchill War Rooms        2  POINT (-0.1294 51.5022)\n",
       "3                     British Museum        3   POINT (-0.127 51.5194)\n",
       "4                      St James Park        4  POINT (-0.1348 51.5025)\n",
       "5   V&A - Victoria and Albert Museum        5  POINT (-0.1722 51.4966)"
      ]
     },
     "execution_count": 52,
     "metadata": {},
     "output_type": "execute_result"
    }
   ],
   "source": [
    "df_to_export = myDf[['LocationName','Ranking', 'Coordinates']]\n",
    "# df_to_export.head()\n",
    "gdf = gpd.GeoDataFrame(df_to_export, geometry='Coordinates')\n",
    "gdf.head()"
   ]
  },
  {
   "cell_type": "code",
   "execution_count": 53,
   "metadata": {},
   "outputs": [
    {
     "name": "stderr",
     "output_type": "stream",
     "text": [
      "C:\\Users\\flavi\\Anaconda3\\lib\\site-packages\\geopandas\\io\\file.py:108: FionaDeprecationWarning: Use fiona.Env() instead.\n",
      "  with fiona.drivers():\n",
      "CPLE_NotSupported in Normalized/laundered field name: 'LocationName' to 'LocationNa'\n"
     ]
    }
   ],
   "source": [
    "gdf.to_file('Dataset/Processed/TouristSpots.shp', driver=\"ESRI Shapefile\")"
   ]
  },
  {
   "cell_type": "code",
   "execution_count": null,
   "metadata": {},
   "outputs": [],
   "source": []
  },
  {
   "cell_type": "code",
   "execution_count": null,
   "metadata": {},
   "outputs": [],
   "source": []
  },
  {
   "cell_type": "code",
   "execution_count": null,
   "metadata": {},
   "outputs": [],
   "source": []
  }
 ],
 "metadata": {
  "kernelspec": {
   "display_name": "Python 3",
   "language": "python",
   "name": "python3"
  },
  "language_info": {
   "codemirror_mode": {
    "name": "ipython",
    "version": 3
   },
   "file_extension": ".py",
   "mimetype": "text/x-python",
   "name": "python",
   "nbconvert_exporter": "python",
   "pygments_lexer": "ipython3",
   "version": "3.6.5"
  }
 },
 "nbformat": 4,
 "nbformat_minor": 2
}
