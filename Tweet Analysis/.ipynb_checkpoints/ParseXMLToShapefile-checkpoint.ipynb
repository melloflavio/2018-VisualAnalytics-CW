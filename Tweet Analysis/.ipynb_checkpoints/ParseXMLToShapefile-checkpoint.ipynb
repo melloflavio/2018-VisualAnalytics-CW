{
 "cells": [
  {
   "cell_type": "markdown",
   "metadata": {},
   "source": [
    "This notebook deals with extracting the location polygons and converting them to a shapefile in order to use Tableau for analysing the data"
   ]
  },
  {
   "cell_type": "code",
   "execution_count": null,
   "metadata": {},
   "outputs": [],
   "source": [
    "# Imports\n",
    "import pandas as pd\n",
    "import geopandas as gpd\n",
    "from shapely.geometry import Polygon\n",
    "from lxml import objectify"
   ]
  },
  {
   "cell_type": "code",
   "execution_count": 3,
   "metadata": {},
   "outputs": [
    {
     "data": {
      "text/html": [
       "<div>\n",
       "<style scoped>\n",
       "    .dataframe tbody tr th:only-of-type {\n",
       "        vertical-align: middle;\n",
       "    }\n",
       "\n",
       "    .dataframe tbody tr th {\n",
       "        vertical-align: top;\n",
       "    }\n",
       "\n",
       "    .dataframe thead th {\n",
       "        text-align: right;\n",
       "    }\n",
       "</style>\n",
       "<table border=\"1\" class=\"dataframe\">\n",
       "  <thead>\n",
       "    <tr style=\"text-align: right;\">\n",
       "      <th></th>\n",
       "      <th>id</th>\n",
       "      <th>name</th>\n",
       "      <th>place_name</th>\n",
       "      <th>polygon</th>\n",
       "    </tr>\n",
       "  </thead>\n",
       "  <tbody>\n",
       "    <tr>\n",
       "      <th>0</th>\n",
       "      <td>1</td>\n",
       "      <td>Trafalgar Square</td>\n",
       "      <td>Trafalgar Square</td>\n",
       "      <td>POLYGON ((-0.1304619 51.50952, -0.13048266 51....</td>\n",
       "    </tr>\n",
       "    <tr>\n",
       "      <th>1</th>\n",
       "      <td>2</td>\n",
       "      <td>Big Ben</td>\n",
       "      <td>Big Ben</td>\n",
       "      <td>POLYGON ((-0.12498988 51.503284, -0.12284501 5...</td>\n",
       "    </tr>\n",
       "    <tr>\n",
       "      <th>2</th>\n",
       "      <td>3</td>\n",
       "      <td>Parliament Square</td>\n",
       "      <td>Parliament Square</td>\n",
       "      <td>POLYGON ((-0.12562872 51.502274, -0.12844071 5...</td>\n",
       "    </tr>\n",
       "    <tr>\n",
       "      <th>3</th>\n",
       "      <td>4</td>\n",
       "      <td>London Eye</td>\n",
       "      <td>London Eye</td>\n",
       "      <td>POLYGON ((-0.12235283 51.503895, -0.12092333 5...</td>\n",
       "    </tr>\n",
       "    <tr>\n",
       "      <th>4</th>\n",
       "      <td>5</td>\n",
       "      <td>Tate Modern</td>\n",
       "      <td>Tate Modern</td>\n",
       "      <td>POLYGON ((-0.0996684 51.51117, -0.101172544 51...</td>\n",
       "    </tr>\n",
       "  </tbody>\n",
       "</table>\n",
       "</div>"
      ],
      "text/plain": [
       "   id               name         place_name  \\\n",
       "0   1   Trafalgar Square   Trafalgar Square   \n",
       "1   2            Big Ben            Big Ben   \n",
       "2   3  Parliament Square  Parliament Square   \n",
       "3   4         London Eye         London Eye   \n",
       "4   5        Tate Modern        Tate Modern   \n",
       "\n",
       "                                             polygon  \n",
       "0  POLYGON ((-0.1304619 51.50952, -0.13048266 51....  \n",
       "1  POLYGON ((-0.12498988 51.503284, -0.12284501 5...  \n",
       "2  POLYGON ((-0.12562872 51.502274, -0.12844071 5...  \n",
       "3  POLYGON ((-0.12235283 51.503895, -0.12092333 5...  \n",
       "4  POLYGON ((-0.0996684 51.51117, -0.101172544 51...  "
      ]
     },
     "execution_count": 3,
     "metadata": {},
     "output_type": "execute_result"
    }
   ],
   "source": [
    "mainXml = objectify.parse('Dataset/Original/London_division_2500-150.xml')\n",
    "lxmlRoot = mainXml.getroot()\n",
    "allPlaces = []\n",
    "for location in lxmlRoot.iterchildren():\n",
    "    place = {}\n",
    "    place['id'] = int(location.id)\n",
    "    place['name'] = str(location.name)\n",
    "    \n",
    "    shape_points = []\n",
    "    for point in location.shape.iterchildren():\n",
    "        shape_points.append((point.xCoord, point.yCoord))\n",
    "    polygon_geom = Polygon(shape_points)\n",
    "    place['polygon'] = polygon_geom\n",
    "    \n",
    "    allPlaces.append(place)\n",
    "\n",
    "myDf = pd.DataFrame.from_records(allPlaces)\n",
    "myDf.head()"
   ]
  },
  {
   "cell_type": "markdown",
   "metadata": {},
   "source": [
    "Convert data frame to a Geo Data Frame, in order to export to a shapefile"
   ]
  },
  {
   "cell_type": "code",
   "execution_count": 5,
   "metadata": {},
   "outputs": [
    {
     "data": {
      "text/html": [
       "<div>\n",
       "<style scoped>\n",
       "    .dataframe tbody tr th:only-of-type {\n",
       "        vertical-align: middle;\n",
       "    }\n",
       "\n",
       "    .dataframe tbody tr th {\n",
       "        vertical-align: top;\n",
       "    }\n",
       "\n",
       "    .dataframe thead th {\n",
       "        text-align: right;\n",
       "    }\n",
       "</style>\n",
       "<table border=\"1\" class=\"dataframe\">\n",
       "  <thead>\n",
       "    <tr style=\"text-align: right;\">\n",
       "      <th></th>\n",
       "      <th>id</th>\n",
       "      <th>name</th>\n",
       "      <th>place_name</th>\n",
       "      <th>polygon</th>\n",
       "    </tr>\n",
       "  </thead>\n",
       "  <tbody>\n",
       "    <tr>\n",
       "      <th>0</th>\n",
       "      <td>1</td>\n",
       "      <td>Trafalgar Square</td>\n",
       "      <td>Trafalgar Square</td>\n",
       "      <td>POLYGON ((-0.1304619 51.50952, -0.13048266 51....</td>\n",
       "    </tr>\n",
       "    <tr>\n",
       "      <th>1</th>\n",
       "      <td>2</td>\n",
       "      <td>Big Ben</td>\n",
       "      <td>Big Ben</td>\n",
       "      <td>POLYGON ((-0.12498988 51.503284, -0.12284501 5...</td>\n",
       "    </tr>\n",
       "    <tr>\n",
       "      <th>2</th>\n",
       "      <td>3</td>\n",
       "      <td>Parliament Square</td>\n",
       "      <td>Parliament Square</td>\n",
       "      <td>POLYGON ((-0.12562872 51.502274, -0.12844071 5...</td>\n",
       "    </tr>\n",
       "    <tr>\n",
       "      <th>3</th>\n",
       "      <td>4</td>\n",
       "      <td>London Eye</td>\n",
       "      <td>London Eye</td>\n",
       "      <td>POLYGON ((-0.12235283 51.503895, -0.12092333 5...</td>\n",
       "    </tr>\n",
       "    <tr>\n",
       "      <th>4</th>\n",
       "      <td>5</td>\n",
       "      <td>Tate Modern</td>\n",
       "      <td>Tate Modern</td>\n",
       "      <td>POLYGON ((-0.0996684 51.51117, -0.101172544 51...</td>\n",
       "    </tr>\n",
       "  </tbody>\n",
       "</table>\n",
       "</div>"
      ],
      "text/plain": [
       "   id               name         place_name  \\\n",
       "0   1   Trafalgar Square   Trafalgar Square   \n",
       "1   2            Big Ben            Big Ben   \n",
       "2   3  Parliament Square  Parliament Square   \n",
       "3   4         London Eye         London Eye   \n",
       "4   5        Tate Modern        Tate Modern   \n",
       "\n",
       "                                             polygon  \n",
       "0  POLYGON ((-0.1304619 51.50952, -0.13048266 51....  \n",
       "1  POLYGON ((-0.12498988 51.503284, -0.12284501 5...  \n",
       "2  POLYGON ((-0.12562872 51.502274, -0.12844071 5...  \n",
       "3  POLYGON ((-0.12235283 51.503895, -0.12092333 5...  \n",
       "4  POLYGON ((-0.0996684 51.51117, -0.101172544 51...  "
      ]
     },
     "execution_count": 5,
     "metadata": {},
     "output_type": "execute_result"
    }
   ],
   "source": [
    "gdf = gpd.GeoDataFrame(myDf, geometry='polygon')\n",
    "gdf.head()\n"
   ]
  },
  {
   "cell_type": "markdown",
   "metadata": {},
   "source": [
    "Export GeoDataFrame to a shapefile, which is now able to be used in Tableau"
   ]
  },
  {
   "cell_type": "code",
   "execution_count": 6,
   "metadata": {},
   "outputs": [
    {
     "name": "stderr",
     "output_type": "stream",
     "text": [
      "C:\\Users\\flavi\\Anaconda3\\lib\\site-packages\\geopandas\\io\\file.py:108: FionaDeprecationWarning: Use fiona.Env() instead.\n",
      "  with fiona.drivers():\n",
      "CPLE_NotSupported in driver ESRI Shapefile does not support creation option ENCODING\n"
     ]
    }
   ],
   "source": [
    "gdf.to_file('Dataset/Processed/London_division.shp', driver=\"ESRI Shapefile\")"
   ]
  }
 ],
 "metadata": {
  "kernelspec": {
   "display_name": "Python 3",
   "language": "python",
   "name": "python3"
  },
  "language_info": {
   "codemirror_mode": {
    "name": "ipython",
    "version": 3
   },
   "file_extension": ".py",
   "mimetype": "text/x-python",
   "name": "python",
   "nbconvert_exporter": "python",
   "pygments_lexer": "ipython3",
   "version": "3.6.5"
  }
 },
 "nbformat": 4,
 "nbformat_minor": 2
}
